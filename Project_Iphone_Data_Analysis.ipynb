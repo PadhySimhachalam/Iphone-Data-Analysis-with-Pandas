{
 "cells": [
  {
   "cell_type": "code",
   "execution_count": 1,
   "id": "28f1f348-dd45-4075-89e0-2cf5f24fced1",
   "metadata": {},
   "outputs": [],
   "source": [
    "import pandas as pd"
   ]
  },
  {
   "cell_type": "code",
   "execution_count": 91,
   "id": "8d891bec-7b99-465c-ad30-503a605f6fd9",
   "metadata": {},
   "outputs": [
    {
     "data": {
      "text/html": [
       "<div>\n",
       "<style scoped>\n",
       "    .dataframe tbody tr th:only-of-type {\n",
       "        vertical-align: middle;\n",
       "    }\n",
       "\n",
       "    .dataframe tbody tr th {\n",
       "        vertical-align: top;\n",
       "    }\n",
       "\n",
       "    .dataframe thead th {\n",
       "        text-align: right;\n",
       "    }\n",
       "</style>\n",
       "<table border=\"1\" class=\"dataframe\">\n",
       "  <thead>\n",
       "    <tr style=\"text-align: right;\">\n",
       "      <th></th>\n",
       "      <th>Product Name</th>\n",
       "      <th>Product URL</th>\n",
       "      <th>Brand</th>\n",
       "      <th>Sale Price</th>\n",
       "      <th>Mrp</th>\n",
       "      <th>Number Of Ratings</th>\n",
       "      <th>Number Of Reviews</th>\n",
       "      <th>Upc</th>\n",
       "      <th>Star Rating</th>\n",
       "      <th>Ram</th>\n",
       "    </tr>\n",
       "  </thead>\n",
       "  <tbody>\n",
       "    <tr>\n",
       "      <th>0</th>\n",
       "      <td>APPLE iPhone 8 Plus (Gold, 64 GB)</td>\n",
       "      <td>https://www.flipkart.com/apple-iphone-8-plus-g...</td>\n",
       "      <td>Apple</td>\n",
       "      <td>49900</td>\n",
       "      <td>49900</td>\n",
       "      <td>3431</td>\n",
       "      <td>356</td>\n",
       "      <td>MOBEXRGV7EHHTGUH</td>\n",
       "      <td>4.6</td>\n",
       "      <td>2 GB</td>\n",
       "    </tr>\n",
       "    <tr>\n",
       "      <th>1</th>\n",
       "      <td>APPLE iPhone 8 Plus (Space Grey, 256 GB)</td>\n",
       "      <td>https://www.flipkart.com/apple-iphone-8-plus-s...</td>\n",
       "      <td>Apple</td>\n",
       "      <td>84900</td>\n",
       "      <td>84900</td>\n",
       "      <td>3431</td>\n",
       "      <td>356</td>\n",
       "      <td>MOBEXRGVAC6TJT4F</td>\n",
       "      <td>4.6</td>\n",
       "      <td>2 GB</td>\n",
       "    </tr>\n",
       "    <tr>\n",
       "      <th>2</th>\n",
       "      <td>APPLE iPhone 8 Plus (Silver, 256 GB)</td>\n",
       "      <td>https://www.flipkart.com/apple-iphone-8-plus-s...</td>\n",
       "      <td>Apple</td>\n",
       "      <td>84900</td>\n",
       "      <td>84900</td>\n",
       "      <td>3431</td>\n",
       "      <td>356</td>\n",
       "      <td>MOBEXRGVGETABXWZ</td>\n",
       "      <td>4.6</td>\n",
       "      <td>2 GB</td>\n",
       "    </tr>\n",
       "    <tr>\n",
       "      <th>3</th>\n",
       "      <td>APPLE iPhone 8 (Silver, 256 GB)</td>\n",
       "      <td>https://www.flipkart.com/apple-iphone-8-silver...</td>\n",
       "      <td>Apple</td>\n",
       "      <td>77000</td>\n",
       "      <td>77000</td>\n",
       "      <td>11202</td>\n",
       "      <td>794</td>\n",
       "      <td>MOBEXRGVMZWUHCBA</td>\n",
       "      <td>NaN</td>\n",
       "      <td>2 GB</td>\n",
       "    </tr>\n",
       "    <tr>\n",
       "      <th>4</th>\n",
       "      <td>APPLE iPhone 8 (Gold, 256 GB)</td>\n",
       "      <td>https://www.flipkart.com/apple-iphone-8-gold-2...</td>\n",
       "      <td>Apple</td>\n",
       "      <td>77000</td>\n",
       "      <td>77000</td>\n",
       "      <td>11202</td>\n",
       "      <td>794</td>\n",
       "      <td>MOBEXRGVPK7PFEJZ</td>\n",
       "      <td>4.5</td>\n",
       "      <td>2 GB</td>\n",
       "    </tr>\n",
       "    <tr>\n",
       "      <th>...</th>\n",
       "      <td>...</td>\n",
       "      <td>...</td>\n",
       "      <td>...</td>\n",
       "      <td>...</td>\n",
       "      <td>...</td>\n",
       "      <td>...</td>\n",
       "      <td>...</td>\n",
       "      <td>...</td>\n",
       "      <td>...</td>\n",
       "      <td>...</td>\n",
       "    </tr>\n",
       "    <tr>\n",
       "      <th>57</th>\n",
       "      <td>APPLE iPhone SE (Black, 64 GB)</td>\n",
       "      <td>https://www.flipkart.com/apple-iphone-se-black...</td>\n",
       "      <td>Apple</td>\n",
       "      <td>29999</td>\n",
       "      <td>39900</td>\n",
       "      <td>95909</td>\n",
       "      <td>8161</td>\n",
       "      <td>MOBFWQ6BR3MK7AUG</td>\n",
       "      <td>4.5</td>\n",
       "      <td>4 GB</td>\n",
       "    </tr>\n",
       "    <tr>\n",
       "      <th>58</th>\n",
       "      <td>APPLE iPhone 11 (Purple, 64 GB)</td>\n",
       "      <td>https://www.flipkart.com/apple-iphone-11-purpl...</td>\n",
       "      <td>Apple</td>\n",
       "      <td>46999</td>\n",
       "      <td>54900</td>\n",
       "      <td>43470</td>\n",
       "      <td>3331</td>\n",
       "      <td>MOBFWQ6BTFFJKGKE</td>\n",
       "      <td>4.6</td>\n",
       "      <td>4 GB</td>\n",
       "    </tr>\n",
       "    <tr>\n",
       "      <th>59</th>\n",
       "      <td>APPLE iPhone 11 (White, 64 GB)</td>\n",
       "      <td>https://www.flipkart.com/apple-iphone-11-white...</td>\n",
       "      <td>Apple</td>\n",
       "      <td>46999</td>\n",
       "      <td>54900</td>\n",
       "      <td>43470</td>\n",
       "      <td>3331</td>\n",
       "      <td>MOBFWQ6BVWVEH3XE</td>\n",
       "      <td>4.6</td>\n",
       "      <td>4 GB</td>\n",
       "    </tr>\n",
       "    <tr>\n",
       "      <th>60</th>\n",
       "      <td>APPLE iPhone 11 (Black, 64 GB)</td>\n",
       "      <td>https://www.flipkart.com/apple-iphone-11-black...</td>\n",
       "      <td>Apple</td>\n",
       "      <td>46999</td>\n",
       "      <td>54900</td>\n",
       "      <td>43470</td>\n",
       "      <td>3331</td>\n",
       "      <td>MOBFWQ6BXGJCEYNY</td>\n",
       "      <td>4.6</td>\n",
       "      <td>4 GB</td>\n",
       "    </tr>\n",
       "    <tr>\n",
       "      <th>61</th>\n",
       "      <td>APPLE iPhone 11 (Red, 64 GB)</td>\n",
       "      <td>https://www.flipkart.com/apple-iphone-11-red-6...</td>\n",
       "      <td>Apple</td>\n",
       "      <td>46999</td>\n",
       "      <td>54900</td>\n",
       "      <td>43470</td>\n",
       "      <td>3331</td>\n",
       "      <td>MOBFWQ6BYYV3FCU7</td>\n",
       "      <td>4.6</td>\n",
       "      <td>4 GB</td>\n",
       "    </tr>\n",
       "  </tbody>\n",
       "</table>\n",
       "<p>62 rows × 10 columns</p>\n",
       "</div>"
      ],
      "text/plain": [
       "                                Product Name  \\\n",
       "0          APPLE iPhone 8 Plus (Gold, 64 GB)   \n",
       "1   APPLE iPhone 8 Plus (Space Grey, 256 GB)   \n",
       "2       APPLE iPhone 8 Plus (Silver, 256 GB)   \n",
       "3            APPLE iPhone 8 (Silver, 256 GB)   \n",
       "4              APPLE iPhone 8 (Gold, 256 GB)   \n",
       "..                                       ...   \n",
       "57            APPLE iPhone SE (Black, 64 GB)   \n",
       "58           APPLE iPhone 11 (Purple, 64 GB)   \n",
       "59            APPLE iPhone 11 (White, 64 GB)   \n",
       "60            APPLE iPhone 11 (Black, 64 GB)   \n",
       "61              APPLE iPhone 11 (Red, 64 GB)   \n",
       "\n",
       "                                          Product URL  Brand  Sale Price  \\\n",
       "0   https://www.flipkart.com/apple-iphone-8-plus-g...  Apple       49900   \n",
       "1   https://www.flipkart.com/apple-iphone-8-plus-s...  Apple       84900   \n",
       "2   https://www.flipkart.com/apple-iphone-8-plus-s...  Apple       84900   \n",
       "3   https://www.flipkart.com/apple-iphone-8-silver...  Apple       77000   \n",
       "4   https://www.flipkart.com/apple-iphone-8-gold-2...  Apple       77000   \n",
       "..                                                ...    ...         ...   \n",
       "57  https://www.flipkart.com/apple-iphone-se-black...  Apple       29999   \n",
       "58  https://www.flipkart.com/apple-iphone-11-purpl...  Apple       46999   \n",
       "59  https://www.flipkart.com/apple-iphone-11-white...  Apple       46999   \n",
       "60  https://www.flipkart.com/apple-iphone-11-black...  Apple       46999   \n",
       "61  https://www.flipkart.com/apple-iphone-11-red-6...  Apple       46999   \n",
       "\n",
       "      Mrp  Number Of Ratings  Number Of Reviews               Upc  \\\n",
       "0   49900               3431                356  MOBEXRGV7EHHTGUH   \n",
       "1   84900               3431                356  MOBEXRGVAC6TJT4F   \n",
       "2   84900               3431                356  MOBEXRGVGETABXWZ   \n",
       "3   77000              11202                794  MOBEXRGVMZWUHCBA   \n",
       "4   77000              11202                794  MOBEXRGVPK7PFEJZ   \n",
       "..    ...                ...                ...               ...   \n",
       "57  39900              95909               8161  MOBFWQ6BR3MK7AUG   \n",
       "58  54900              43470               3331  MOBFWQ6BTFFJKGKE   \n",
       "59  54900              43470               3331  MOBFWQ6BVWVEH3XE   \n",
       "60  54900              43470               3331  MOBFWQ6BXGJCEYNY   \n",
       "61  54900              43470               3331  MOBFWQ6BYYV3FCU7   \n",
       "\n",
       "    Star Rating   Ram  \n",
       "0           4.6  2 GB  \n",
       "1           4.6  2 GB  \n",
       "2           4.6  2 GB  \n",
       "3           NaN  2 GB  \n",
       "4           4.5  2 GB  \n",
       "..          ...   ...  \n",
       "57          4.5  4 GB  \n",
       "58          4.6  4 GB  \n",
       "59          4.6  4 GB  \n",
       "60          4.6  4 GB  \n",
       "61          4.6  4 GB  \n",
       "\n",
       "[62 rows x 10 columns]"
      ]
     },
     "execution_count": 91,
     "metadata": {},
     "output_type": "execute_result"
    }
   ],
   "source": [
    "df = pd.read_csv('F:\\\\Iphone Data Analysis Pandas\\\\iphone.csv')\n",
    "df"
   ]
  },
  {
   "cell_type": "code",
   "execution_count": 92,
   "id": "9e55c923-1cd0-42a5-a752-d924f78fa0ce",
   "metadata": {},
   "outputs": [],
   "source": [
    "#column names have spaces . rename the column names to have underscore '_' instead of space\n",
    "df.columns= df.columns.str.lower()"
   ]
  },
  {
   "cell_type": "code",
   "execution_count": 93,
   "id": "fa1e44d5-af7a-4e4b-a984-3d4963b67434",
   "metadata": {},
   "outputs": [],
   "source": [
    "df.columns = df.columns.str.replace(' ','_')"
   ]
  },
  {
   "cell_type": "code",
   "execution_count": 95,
   "id": "14e764c1-09d7-4406-b058-efb619295441",
   "metadata": {},
   "outputs": [
    {
     "data": {
      "text/html": [
       "<div>\n",
       "<style scoped>\n",
       "    .dataframe tbody tr th:only-of-type {\n",
       "        vertical-align: middle;\n",
       "    }\n",
       "\n",
       "    .dataframe tbody tr th {\n",
       "        vertical-align: top;\n",
       "    }\n",
       "\n",
       "    .dataframe thead th {\n",
       "        text-align: right;\n",
       "    }\n",
       "</style>\n",
       "<table border=\"1\" class=\"dataframe\">\n",
       "  <thead>\n",
       "    <tr style=\"text-align: right;\">\n",
       "      <th></th>\n",
       "      <th>product_name</th>\n",
       "      <th>product_url</th>\n",
       "      <th>brand</th>\n",
       "      <th>sale_price</th>\n",
       "      <th>mrp</th>\n",
       "      <th>number_of_ratings</th>\n",
       "      <th>number_of_reviews</th>\n",
       "      <th>upc</th>\n",
       "      <th>star_rating</th>\n",
       "      <th>ram</th>\n",
       "    </tr>\n",
       "  </thead>\n",
       "  <tbody>\n",
       "    <tr>\n",
       "      <th>3</th>\n",
       "      <td>APPLE iPhone 8 (Silver, 256 GB)</td>\n",
       "      <td>https://www.flipkart.com/apple-iphone-8-silver...</td>\n",
       "      <td>Apple</td>\n",
       "      <td>77000</td>\n",
       "      <td>77000</td>\n",
       "      <td>11202</td>\n",
       "      <td>794</td>\n",
       "      <td>MOBEXRGVMZWUHCBA</td>\n",
       "      <td>NaN</td>\n",
       "      <td>2 GB</td>\n",
       "    </tr>\n",
       "    <tr>\n",
       "      <th>10</th>\n",
       "      <td>Apple iPhone XR (Black, 64 GB)</td>\n",
       "      <td>https://www.flipkart.com/apple-iphone-xr-black...</td>\n",
       "      <td>Apple</td>\n",
       "      <td>39999</td>\n",
       "      <td>47900</td>\n",
       "      <td>79512</td>\n",
       "      <td>6796</td>\n",
       "      <td>MOBF9Z7ZPHGV4GNH</td>\n",
       "      <td>NaN</td>\n",
       "      <td>4 GB</td>\n",
       "    </tr>\n",
       "    <tr>\n",
       "      <th>32</th>\n",
       "      <td>APPLE iPhone 12 Pro Max (Graphite, 128 GB)</td>\n",
       "      <td>https://www.flipkart.com/apple-iphone-12-pro-m...</td>\n",
       "      <td>Apple</td>\n",
       "      <td>120900</td>\n",
       "      <td>129900</td>\n",
       "      <td>580</td>\n",
       "      <td>45</td>\n",
       "      <td>MOBFWBYZFDGQSDWS</td>\n",
       "      <td>NaN</td>\n",
       "      <td>6 GB</td>\n",
       "    </tr>\n",
       "  </tbody>\n",
       "</table>\n",
       "</div>"
      ],
      "text/plain": [
       "                                  product_name  \\\n",
       "3              APPLE iPhone 8 (Silver, 256 GB)   \n",
       "10              Apple iPhone XR (Black, 64 GB)   \n",
       "32  APPLE iPhone 12 Pro Max (Graphite, 128 GB)   \n",
       "\n",
       "                                          product_url  brand  sale_price  \\\n",
       "3   https://www.flipkart.com/apple-iphone-8-silver...  Apple       77000   \n",
       "10  https://www.flipkart.com/apple-iphone-xr-black...  Apple       39999   \n",
       "32  https://www.flipkart.com/apple-iphone-12-pro-m...  Apple      120900   \n",
       "\n",
       "       mrp  number_of_ratings  number_of_reviews               upc  \\\n",
       "3    77000              11202                794  MOBEXRGVMZWUHCBA   \n",
       "10   47900              79512               6796  MOBF9Z7ZPHGV4GNH   \n",
       "32  129900                580                 45  MOBFWBYZFDGQSDWS   \n",
       "\n",
       "    star_rating   ram  \n",
       "3           NaN  2 GB  \n",
       "10          NaN  4 GB  \n",
       "32          NaN  6 GB  "
      ]
     },
     "execution_count": 95,
     "metadata": {},
     "output_type": "execute_result"
    }
   ],
   "source": [
    "df[df['star_rating'].isna()]"
   ]
  },
  {
   "cell_type": "code",
   "execution_count": 96,
   "id": "8be9b5fe-0a80-46e4-ae8f-3340081a14e7",
   "metadata": {},
   "outputs": [],
   "source": [
    "#filling missing values with avg rating of full dataset , \n",
    "#fill with avg rating based on RAM. example :  \n",
    "#if rating for a 2 gb phone is missing then take average of all other 2 gb phones rating and fill that value."
   ]
  },
  {
   "cell_type": "code",
   "execution_count": 97,
   "id": "a5c95525-e6df-4e9d-9ec7-0525cecfb2d6",
   "metadata": {},
   "outputs": [
    {
     "name": "stdout",
     "output_type": "stream",
     "text": [
      "4.541666666666667\n",
      "4.5892857142857135\n",
      "4.577777777777777\n"
     ]
    }
   ],
   "source": [
    "#for 2gb ram\n",
    "m1 = df.loc[df['ram'] == '2 GB','star_rating'].mean()\n",
    "print(m1)\n",
    "df.loc[df['ram'] == '2 GB', 'star_rating']=df.loc[df['ram'] == '2 GB', 'star_rating'].fillna(m1)\n",
    "\n",
    "#for 4gb ram\n",
    "m2 = df.loc[df['ram'] == '4 GB','star_rating'].mean()\n",
    "print(m2)\n",
    "df.loc[df['ram'] == '4 GB', 'star_rating']=df.loc[df['ram'] == '4 GB', 'star_rating'].fillna(m2)\n",
    "\n",
    "#for 6gb ram\n",
    "m3 = df.loc[df['ram'] == '6 GB','star_rating'].mean()\n",
    "\n",
    "df.loc[df['ram'] == '6 GB', 'star_rating']=df.loc[df['ram'] == '6 GB', 'star_rating'].fillna(m3)\n",
    "print(m3)\n"
   ]
  },
  {
   "cell_type": "code",
   "execution_count": 98,
   "id": "06b093b4-0bb9-4002-9380-e5e4947e3cec",
   "metadata": {},
   "outputs": [
    {
     "data": {
      "text/plain": [
       "3     4.541667\n",
       "10    4.589286\n",
       "32    4.577778\n",
       "Name: star_rating, dtype: float64"
      ]
     },
     "execution_count": 98,
     "metadata": {},
     "output_type": "execute_result"
    }
   ],
   "source": [
    "df.loc[[3,10,32],'star_rating']"
   ]
  },
  {
   "cell_type": "code",
   "execution_count": 99,
   "id": "f54c8b62-47f1-40e7-b837-6c83bab07c72",
   "metadata": {},
   "outputs": [],
   "source": [
    "#Creating a new column in the dataframe \"Discount_Percentage\" based on MRP and sale value\n",
    "df['discount_percentage'] = round(((df['mrp']-df['sale_price'])/df['mrp'])*100,2)"
   ]
  },
  {
   "cell_type": "code",
   "execution_count": 100,
   "id": "152ecbcb-8f3b-487d-9bf7-b8f6f3c9bc11",
   "metadata": {},
   "outputs": [
    {
     "data": {
      "text/plain": [
       "29.64"
      ]
     },
     "execution_count": 100,
     "metadata": {},
     "output_type": "execute_result"
    }
   ],
   "source": [
    "#which model has highest percent discount ?\n",
    "df['discount_percentage'].max()"
   ]
  },
  {
   "cell_type": "code",
   "execution_count": 210,
   "id": "553631a2-6a62-4de6-870c-0cbcd2bec582",
   "metadata": {},
   "outputs": [
    {
     "name": "stdout",
     "output_type": "stream",
     "text": [
      "The Model with highest percent discount is:\n"
     ]
    },
    {
     "data": {
      "text/plain": [
       "18    APPLE iPhone 11 Pro (Midnight Green, 64 GB)\n",
       "Name: product_name, dtype: object"
      ]
     },
     "execution_count": 210,
     "metadata": {},
     "output_type": "execute_result"
    }
   ],
   "source": [
    "print('The Model with highest percent discount is:')\n",
    "df[df['discount_percentage']==df['discount_percentage'].max()]['product_name']"
   ]
  },
  {
   "cell_type": "code",
   "execution_count": 102,
   "id": "4fea4140-987c-4c36-a595-42e9e59896ce",
   "metadata": {},
   "outputs": [],
   "source": [
    "#total no of models for each space configuration\n",
    "def extract_storage(product_name):\n",
    "    # Spliting the product name by '(' \n",
    "    parts = product_name.split('(')\n",
    "    if len(parts) > 1:\n",
    "        # Take the text inside the parentheses\n",
    "        inside = parts[1].strip().replace(\")\", \"\")\n",
    "        if ',' in inside:\n",
    "            # Storage will be the part after the comma\n",
    "            storage = inside.split(',')[1].strip()\n",
    "            return storage\n",
    "    return None\n",
    "\n",
    "df['storage'] = df['product_name'].apply(extract_storage)\n"
   ]
  },
  {
   "cell_type": "code",
   "execution_count": 103,
   "id": "a0768021-3ac1-44f6-ae68-59c1e9f54810",
   "metadata": {},
   "outputs": [
    {
     "data": {
      "text/plain": [
       "0      64 GB\n",
       "1     256 GB\n",
       "2     256 GB\n",
       "3     256 GB\n",
       "4     256 GB\n",
       "       ...  \n",
       "57     64 GB\n",
       "58     64 GB\n",
       "59     64 GB\n",
       "60     64 GB\n",
       "61     64 GB\n",
       "Name: storage, Length: 62, dtype: object"
      ]
     },
     "execution_count": 103,
     "metadata": {},
     "output_type": "execute_result"
    }
   ],
   "source": [
    "df['storage']"
   ]
  },
  {
   "cell_type": "code",
   "execution_count": 209,
   "id": "0db7f60d-acd0-4870-a950-bafff67e42a9",
   "metadata": {},
   "outputs": [
    {
     "name": "stdout",
     "output_type": "stream",
     "text": [
      "Total no of models for each space configuration is:\n"
     ]
    },
    {
     "data": {
      "text/plain": [
       "storage\n",
       "128 GB    24\n",
       "64 GB     20\n",
       "256 GB    14\n",
       "512 GB     4\n",
       "Name: count, dtype: int64"
      ]
     },
     "execution_count": 209,
     "metadata": {},
     "output_type": "execute_result"
    }
   ],
   "source": [
    "print('Total no of models for each space configuration is:')\n",
    "df['storage'].value_counts()"
   ]
  },
  {
   "cell_type": "code",
   "execution_count": 107,
   "id": "9f885429-17d5-4140-aa5d-03ac47c4f84d",
   "metadata": {},
   "outputs": [],
   "source": [
    "#total number of models for each color \n",
    "\n",
    "def extract_color(product_name):\n",
    "    # Split the product name by '(' and ')' to get parts within parentheses\n",
    "    parts = product_name.split('(')\n",
    "    if len(parts) > 1:\n",
    "        # Check if the second part contains a comma (,) to identify color\n",
    "        color_part = parts[1].strip()\n",
    "        if ',' in color_part:\n",
    "            color = color_part.split(',')[0].strip()\n",
    "            return color\n",
    "    return None\n",
    "\n",
    "df['color'] = df['product_name'].apply(extract_color)\n",
    "\n"
   ]
  },
  {
   "cell_type": "code",
   "execution_count": 208,
   "id": "b898f078-1847-429a-9cc3-e5859a57f7d1",
   "metadata": {},
   "outputs": [
    {
     "name": "stdout",
     "output_type": "stream",
     "text": [
      "Total number of models foreach color is:\n"
     ]
    },
    {
     "data": {
      "text/plain": [
       "color\n",
       "Black             10\n",
       "White             10\n",
       "Silver             7\n",
       "Gold               6\n",
       "Space Grey         6\n",
       "Red                5\n",
       "Midnight Green     4\n",
       "Pacific Blue       4\n",
       "Graphite           4\n",
       "Blue               2\n",
       "RED                1\n",
       "Coral              1\n",
       "Green              1\n",
       "Purple             1\n",
       "Name: count, dtype: int64"
      ]
     },
     "execution_count": 208,
     "metadata": {},
     "output_type": "execute_result"
    }
   ],
   "source": [
    "print('Total number of models foreach color is:')\n",
    "df['color'].value_counts()"
   ]
  },
  {
   "cell_type": "code",
   "execution_count": 112,
   "id": "65b1f039-8a4b-4674-984c-535b80428f8d",
   "metadata": {},
   "outputs": [
    {
     "data": {
      "text/plain": [
       "0            APPLE iPhone 8 Plus (Gold, 64 GB)\n",
       "1     APPLE iPhone 8 Plus (Space Grey, 256 GB)\n",
       "2         APPLE iPhone 8 Plus (Silver, 256 GB)\n",
       "3              APPLE iPhone 8 (Silver, 256 GB)\n",
       "4                APPLE iPhone 8 (Gold, 256 GB)\n",
       "                        ...                   \n",
       "57              APPLE iPhone SE (Black, 64 GB)\n",
       "58             APPLE iPhone 11 (Purple, 64 GB)\n",
       "59              APPLE iPhone 11 (White, 64 GB)\n",
       "60              APPLE iPhone 11 (Black, 64 GB)\n",
       "61                APPLE iPhone 11 (Red, 64 GB)\n",
       "Name: product_name, Length: 62, dtype: object"
      ]
     },
     "execution_count": 112,
     "metadata": {},
     "output_type": "execute_result"
    }
   ],
   "source": [
    "df['product_name']"
   ]
  },
  {
   "cell_type": "code",
   "execution_count": 116,
   "id": "3a7851b9-3d22-468e-94d3-0c1497db128f",
   "metadata": {},
   "outputs": [],
   "source": [
    "#total number of models by iphone version\n",
    "def model(product_name):\n",
    "    lst = product_name.split('(')\n",
    "    if len(lst) > 1:\n",
    "        model = lst[0]\n",
    "        return model\n",
    "    return None\n",
    "\n",
    "df['model'] = df['product_name'].apply(model)\n",
    "    \n",
    "    "
   ]
  },
  {
   "cell_type": "code",
   "execution_count": 207,
   "id": "71c253c5-fbe8-4bcf-a684-a19869d5f400",
   "metadata": {},
   "outputs": [
    {
     "name": "stdout",
     "output_type": "stream",
     "text": [
      "Total number of models by iphone version is:\n"
     ]
    },
    {
     "data": {
      "text/plain": [
       "model\n",
       "APPLE iPhone 12 Pro Max     8\n",
       "APPLE iPhone 12             7\n",
       "APPLE iPhone 11             7\n",
       "APPLE iPhone 12 Mini        6\n",
       "APPLE iPhone 8 Plus         5\n",
       "Apple iPhone XR             5\n",
       "APPLE iPhone 11 Pro Max     5\n",
       "APPLE iPhone 12 Pro         5\n",
       "APPLE iPhone SE             5\n",
       "APPLE iPhone 11 Pro         4\n",
       "APPLE iPhone 8              3\n",
       "APPLE iPhone XS Max         1\n",
       "Apple iPhone SE             1\n",
       "Name: count, dtype: int64"
      ]
     },
     "execution_count": 207,
     "metadata": {},
     "output_type": "execute_result"
    }
   ],
   "source": [
    "print('Total number of models by iphone version is:')\n",
    "df['model'].value_counts()"
   ]
  },
  {
   "cell_type": "code",
   "execution_count": 206,
   "id": "2b7ee7eb-64d7-4277-b7ae-6b8f6a369b60",
   "metadata": {},
   "outputs": [
    {
     "name": "stdout",
     "output_type": "stream",
     "text": [
      "Top 5 models having highest no of reviews is:\n",
      "model\n",
      "APPLE iPhone SE     40791\n",
      "Apple iPhone XR     33988\n",
      "APPLE iPhone 11     23369\n",
      "Apple iPhone SE      8161\n",
      "APPLE iPhone 8       2382\n",
      "Name: number_of_reviews, dtype: int64\n"
     ]
    }
   ],
   "source": [
    "# top 5 models having highest no of reviews \n",
    "top_models = df.groupby('model')['number_of_reviews'].sum().sort_values( ascending=False).head(5)\n",
    "print('Top 5 models having highest no of reviews is:')\n",
    "print(top_models)"
   ]
  },
  {
   "cell_type": "code",
   "execution_count": 140,
   "id": "ad13ca3f-8686-4f2e-a1fa-6f38ef0e3f6a",
   "metadata": {},
   "outputs": [
    {
     "name": "stdout",
     "output_type": "stream",
     "text": [
      "Max Price is:  149900\n",
      "Min Price is:  39900\n",
      "The Difference between max price and min price is:  110000\n"
     ]
    }
   ],
   "source": [
    "#the price diffrence between highest price and lowest price iphone (based on mrp)\n",
    "max_price = df['mrp'].max()\n",
    "print('Max Price is: ',max_price)\n",
    "min_price = df['mrp'].min()\n",
    "print('Min Price is: ',min_price)\n",
    "diff = max_price - min_price\n",
    "print('The Difference between max price and min price is: ',diff)"
   ]
  },
  {
   "cell_type": "code",
   "execution_count": 163,
   "id": "f3419b03-55ea-4d3b-8cb0-3245c77f968f",
   "metadata": {},
   "outputs": [
    {
     "name": "stdout",
     "output_type": "stream",
     "text": [
      "                      model  number_of_reviews\n",
      "0          APPLE iPhone 11               23369\n",
      "1      APPLE iPhone 11 Pro                2091\n",
      "2  APPLE iPhone 11 Pro Max                 505\n",
      "3          APPLE iPhone 12                1256\n",
      "4     APPLE iPhone 12 Mini                 382\n",
      "5      APPLE iPhone 12 Pro                 210\n",
      "6  APPLE iPhone 12 Pro Max                 360\n"
     ]
    }
   ],
   "source": [
    "#total no of reviews for iphone 11 and iphone 12 category . Output should have only 2 rows\n",
    "Total_reviews = df[df['model'].str.contains('iPhone 11|iPhone 12', case=False)].groupby('model', as_index=False)['number_of_reviews'].sum()\n",
    "\n",
    "\n",
    "print(Total_reviews)"
   ]
  },
  {
   "cell_type": "code",
   "execution_count": 195,
   "id": "83971f00-e68e-417b-8c43-d6255e0dcfcd",
   "metadata": {},
   "outputs": [
    {
     "name": "stdout",
     "output_type": "stream",
     "text": [
      "iPhone with 3rd highest MRP:\n",
      " model    APPLE iPhone 12 Pro Max \n",
      "mrp                        139900\n",
      "Name: 31, dtype: object\n"
     ]
    }
   ],
   "source": [
    " #iphone has 3rd highest MRP\n",
    "third_highest = df[['model', 'mrp']].sort_values('mrp', ascending=False).drop_duplicates(subset=['model']).iloc[2]   \n",
    "\n",
    "print(\"iPhone with 3rd highest MRP:\\n\",third_highest)\n"
   ]
  },
  {
   "cell_type": "code",
   "execution_count": 198,
   "id": "812db8b2-a572-4b20-bddf-100d0267135b",
   "metadata": {},
   "outputs": [
    {
     "name": "stdout",
     "output_type": "stream",
     "text": [
      "Average MRP of iPhones costing above 100,000: 130559.09\n"
     ]
    }
   ],
   "source": [
    "# average mrp of iphones which costs above 100,000\n",
    "high_end = df[df['mrp'] > 100000]\n",
    "avg_high_end_mrp = round(high_end['mrp'].mean(),2)\n",
    "print(\"Average MRP of iPhones costing above 100,000:\", avg_high_end_mrp)\n"
   ]
  },
  {
   "cell_type": "code",
   "execution_count": 204,
   "id": "5da5bea4-1f2d-4eef-921f-014b6372368e",
   "metadata": {},
   "outputs": [
    {
     "name": "stdout",
     "output_type": "stream",
     "text": [
      "The iphone with highest rating to reviews ratio is:\n",
      "APPLE iPhone 12 Pro \n"
     ]
    }
   ],
   "source": [
    "#the iPhone with the highest ratings-to-reviews ratio\n",
    "df_128 = df[df['storage'].str.contains(\"128 GB\", case=False)].copy()\n",
    "df_128['rating_to_review_ratio'] = df_128['star_rating'] / df_128['number_of_reviews']\n",
    "best_iphone_128 = df_128.loc[df_128['rating_to_review_ratio'].idxmax()]\n",
    "print('The iphone with highest rating to reviews ratio is:')\n",
    "print(best_iphone_128['model'])"
   ]
  }
 ],
 "metadata": {
  "kernelspec": {
   "display_name": "Python 3 (ipykernel)",
   "language": "python",
   "name": "python3"
  },
  "language_info": {
   "codemirror_mode": {
    "name": "ipython",
    "version": 3
   },
   "file_extension": ".py",
   "mimetype": "text/x-python",
   "name": "python",
   "nbconvert_exporter": "python",
   "pygments_lexer": "ipython3",
   "version": "3.12.4"
  }
 },
 "nbformat": 4,
 "nbformat_minor": 5
}
